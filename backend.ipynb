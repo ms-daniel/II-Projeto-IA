{
  "nbformat": 4,
  "nbformat_minor": 0,
  "metadata": {
    "colab": {
      "provenance": [],
      "collapsed_sections": []
    },
    "kernelspec": {
      "name": "python3",
      "display_name": "Python 3"
    },
    "language_info": {
      "name": "python"
    }
  },
  "cells": [
    {
      "cell_type": "markdown",
      "source": [
        "#II Projeto de Inteligência Artificial\n",
        "\n",
        "Nesse projeto iremos utilizar rede neural perceptron juntamento com os classificadores KNN e One Rule \n"
      ],
      "metadata": {
        "id": "ToGRBKk4qyvZ"
      }
    },
    {
      "cell_type": "code",
      "execution_count": null,
      "metadata": {
        "id": "Kl14xKRKqvE_"
      },
      "outputs": [],
      "source": []
    }
  ]
}